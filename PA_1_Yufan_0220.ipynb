{
 "cells": [
  {
   "cell_type": "markdown",
   "metadata": {},
   "source": [
    "# CSE 5526: Programming Assignment #1\n"
   ]
  },
  {
   "cell_type": "code",
   "execution_count": 1,
   "metadata": {},
   "outputs": [],
   "source": [
    "import numpy as np\n",
    "import matplotlib.pyplot as plt"
   ]
  },
  {
   "cell_type": "code",
   "execution_count": 2,
   "metadata": {},
   "outputs": [],
   "source": [
    "# Activation function: Logistic Sigmoid\n",
    "def sigmoid(x):\n",
    "    return 1 / (1 + np.exp(-x))"
   ]
  },
  {
   "cell_type": "code",
   "execution_count": 3,
   "metadata": {},
   "outputs": [],
   "source": [
    "# Derivative of sigmoid (for backpropagation)\n",
    "def sigmoid_derivative(x):\n",
    "    return sigmoid(x) * (1 - sigmoid(x))"
   ]
  },
  {
   "cell_type": "markdown",
   "metadata": {},
   "source": [
    "## 1. Initialization"
   ]
  },
  {
   "cell_type": "code",
   "execution_count": 4,
   "metadata": {},
   "outputs": [],
   "source": [
    "# Initialize network parameters\n",
    "input_size = 4\n",
    "hidden_size = 4\n",
    "output_size = 1\n",
    "learning_rate = 0.05\n",
    "max_error = 0.05"
   ]
  },
  {
   "cell_type": "code",
   "execution_count": 5,
   "metadata": {},
   "outputs": [
    {
     "data": {
      "text/plain": [
       "(array([[-0.25091976,  0.90142861,  0.46398788,  0.19731697],\n",
       "        [-0.68796272, -0.68801096, -0.88383278,  0.73235229],\n",
       "        [ 0.20223002,  0.41614516, -0.95883101,  0.9398197 ],\n",
       "        [ 0.66488528, -0.57532178, -0.63635007, -0.63319098]]),\n",
       " array([[-0.39151551],\n",
       "        [ 0.04951286],\n",
       "        [-0.13610996],\n",
       "        [-0.41754172]]),\n",
       " array([[ 0.22370579, -0.72101228, -0.4157107 , -0.26727631]]),\n",
       " array([[-0.08786003]]))"
      ]
     },
     "execution_count": 5,
     "metadata": {},
     "output_type": "execute_result"
    }
   ],
   "source": [
    "# Initialize weights and biases with random values between -1 and 1\n",
    "np.random.seed(42) # For reproducibility\n",
    "weights_input_hidden = np.random.uniform(-1, 1, (input_size, hidden_size))\n",
    "weights_hidden_output = np.random.uniform(-1, 1, (hidden_size, output_size))\n",
    "bias_hidden = np.random.uniform(-1, 1, (1, hidden_size))\n",
    "bias_output = np.random.uniform(-1, 1, (1, output_size))\n",
    "\n",
    "weights_input_hidden, weights_hidden_output, bias_hidden, bias_output"
   ]
  },
  {
   "cell_type": "code",
   "execution_count": 6,
   "metadata": {},
   "outputs": [
    {
     "data": {
      "text/plain": [
       "(array([[0, 0, 0, 0],\n",
       "        [0, 0, 0, 1],\n",
       "        [0, 0, 1, 0],\n",
       "        [0, 0, 1, 1]]),\n",
       " array([[0],\n",
       "        [1],\n",
       "        [1],\n",
       "        [0]]))"
      ]
     },
     "execution_count": 6,
     "metadata": {},
     "output_type": "execute_result"
    }
   ],
   "source": [
    "# Generate all possible input patterns for 4 binary bits\n",
    "# inputs = np.array([[int(x) for x in format(i, '04b')] for i in range(16)])\n",
    "\n",
    "# Only use 4 training samples as inputs\n",
    "inputs = np.array([[int(x) for x in format(i, '04b')] for i in range(4)])\n",
    "\n",
    "# Calculate targets based on the parity of the sum of each input pattern\n",
    "# Output is 1 if the sum of the input pattern (number of 1's) is odd, else 0\n",
    "targets = np.array([[sum(x) % 2] for x in inputs])\n",
    "\n",
    "inputs, targets"
   ]
  },
  {
   "cell_type": "markdown",
   "metadata": {},
   "source": [
    "## 2. Training Loop for the fixed learning rate (0.05)"
   ]
  },
  {
   "cell_type": "code",
   "execution_count": 7,
   "metadata": {},
   "outputs": [],
   "source": [
    "# The learning procedure is stopped when an absolute error (difference) of 0.05 is reached for every input pattern.\n",
    "max_error_allowed = 0.05\n",
    "max_error = np.inf\n",
    "epoch = 0\n",
    "max_errors = []"
   ]
  },
  {
   "cell_type": "code",
   "execution_count": 8,
   "metadata": {},
   "outputs": [
    {
     "name": "stdout",
     "output_type": "stream",
     "text": [
      "Epoch: 0, Max Error: 0.6462593025087462\n",
      "Epoch: 100, Max Error: 0.5205108557308191\n",
      "Epoch: 200, Max Error: 0.5053297414121753\n",
      "Epoch: 300, Max Error: 0.5028821875903882\n",
      "Epoch: 400, Max Error: 0.5021367567374333\n",
      "Epoch: 500, Max Error: 0.5032705917085731\n",
      "Epoch: 600, Max Error: 0.5044064682620776\n",
      "Epoch: 700, Max Error: 0.505562271206693\n",
      "Epoch: 800, Max Error: 0.5067444429528543\n",
      "Epoch: 900, Max Error: 0.5079580808175115\n",
      "Epoch: 1000, Max Error: 0.5092079527727996\n",
      "Epoch: 1100, Max Error: 0.5104985628883757\n",
      "Epoch: 1200, Max Error: 0.5118341158183047\n",
      "Epoch: 1300, Max Error: 0.5132184741970073\n",
      "Epoch: 1400, Max Error: 0.5146551261111499\n",
      "Epoch: 1500, Max Error: 0.5161471729068027\n",
      "Epoch: 1600, Max Error: 0.5176973466127918\n",
      "Epoch: 1700, Max Error: 0.519308063790923\n",
      "Epoch: 1800, Max Error: 0.5209815171000614\n",
      "Epoch: 1900, Max Error: 0.5227197965856464\n",
      "Epoch: 2000, Max Error: 0.5245250196099066\n",
      "Epoch: 2100, Max Error: 0.526399432198322\n",
      "Epoch: 2200, Max Error: 0.5283454271526942\n",
      "Epoch: 2300, Max Error: 0.5303654082632699\n",
      "Epoch: 2400, Max Error: 0.5324614187938009\n",
      "Epoch: 2500, Max Error: 0.5346344501695998\n",
      "Epoch: 2600, Max Error: 0.5368833581118471\n",
      "Epoch: 2700, Max Error: 0.5392033435559257\n",
      "Epoch: 2800, Max Error: 0.5415840098203393\n",
      "Epoch: 2900, Max Error: 0.5440070889173195\n",
      "Epoch: 3000, Max Error: 0.5464440356920868\n",
      "Epoch: 3100, Max Error: 0.5488538037826703\n",
      "Epoch: 3200, Max Error: 0.5511812112161152\n",
      "Epoch: 3300, Max Error: 0.5533563315795977\n",
      "Epoch: 3400, Max Error: 0.5552952665332068\n",
      "Epoch: 3500, Max Error: 0.5569024511025853\n",
      "Epoch: 3600, Max Error: 0.5580743482977016\n",
      "Epoch: 3700, Max Error: 0.5587040885863808\n",
      "Epoch: 3800, Max Error: 0.5586864077053479\n",
      "Epoch: 3900, Max Error: 0.5579222094551286\n",
      "Epoch: 4000, Max Error: 0.5563222372986737\n",
      "Epoch: 4100, Max Error: 0.5538096185119618\n",
      "Epoch: 4200, Max Error: 0.5503213486779626\n",
      "Epoch: 4300, Max Error: 0.5458090209413652\n",
      "Epoch: 4400, Max Error: 0.5402392202927087\n",
      "Epoch: 4500, Max Error: 0.5335939903426792\n",
      "Epoch: 4600, Max Error: 0.5258716644232672\n",
      "Epoch: 4700, Max Error: 0.5170881738918144\n",
      "Epoch: 4800, Max Error: 0.5072787394180902\n",
      "Epoch: 4900, Max Error: 0.4964996402418084\n",
      "Epoch: 5000, Max Error: 0.4848295657332645\n",
      "Epoch: 5100, Max Error: 0.47236992630431407\n",
      "Epoch: 5200, Max Error: 0.45924350637516315\n",
      "Epoch: 5300, Max Error: 0.4455910466045496\n",
      "Epoch: 5400, Max Error: 0.4315657476193989\n",
      "Epoch: 5500, Max Error: 0.4173261885770524\n",
      "Epoch: 5600, Max Error: 0.4030285697715576\n",
      "Epoch: 5700, Max Error: 0.3888193565158382\n",
      "Epoch: 5800, Max Error: 0.37482926940708\n",
      "Epoch: 5900, Max Error: 0.36116921092548826\n",
      "Epoch: 6000, Max Error: 0.347928288844086\n",
      "Epoch: 6100, Max Error: 0.3351737316461039\n",
      "Epoch: 6200, Max Error: 0.32295226623195444\n",
      "Epoch: 6300, Max Error: 0.3112924515406279\n",
      "Epoch: 6400, Max Error: 0.30020749706896266\n",
      "Epoch: 6500, Max Error: 0.2896981923744536\n",
      "Epoch: 6600, Max Error: 0.279755689115148\n",
      "Epoch: 6700, Max Error: 0.27036398299006237\n",
      "Epoch: 6800, Max Error: 0.2615020259816874\n",
      "Epoch: 6900, Max Error: 0.25314545698064694\n",
      "Epoch: 7000, Max Error: 0.24526797433885325\n",
      "Epoch: 7100, Max Error: 0.23784239244381553\n",
      "Epoch: 7200, Max Error: 0.23084143135847826\n",
      "Epoch: 7300, Max Error: 0.22423828833092438\n",
      "Epoch: 7400, Max Error: 0.2180070357819551\n",
      "Epoch: 7500, Max Error: 0.21212288439974\n",
      "Epoch: 7600, Max Error: 0.20656234355465525\n",
      "Epoch: 7700, Max Error: 0.2013033051509182\n",
      "Epoch: 7800, Max Error: 0.1963250716241103\n",
      "Epoch: 7900, Max Error: 0.1916083442064192\n",
      "Epoch: 8000, Max Error: 0.18713518380976088\n",
      "Epoch: 8100, Max Error: 0.18288895384757048\n",
      "Epoch: 8200, Max Error: 0.1788542519264675\n",
      "Epoch: 8300, Max Error: 0.17501683548212793\n",
      "Epoch: 8400, Max Error: 0.1713635450087842\n",
      "Epoch: 8500, Max Error: 0.16788222745077586\n",
      "Epoch: 8600, Max Error: 0.1645616615131998\n",
      "Epoch: 8700, Max Error: 0.16139148604639558\n",
      "Epoch: 8800, Max Error: 0.15836213221682885\n",
      "Epoch: 8900, Max Error: 0.1554647598567666\n",
      "Epoch: 9000, Max Error: 0.1526911981567312\n",
      "Epoch: 9100, Max Error: 0.15003389070516807\n",
      "Epoch: 9200, Max Error: 0.14748584477114643\n",
      "Epoch: 9300, Max Error: 0.14504058465490466\n",
      "Epoch: 9400, Max Error: 0.1426921088872814\n",
      "Epoch: 9500, Max Error: 0.1404348510351095\n",
      "Epoch: 9600, Max Error: 0.13826364385950674\n",
      "Epoch: 9700, Max Error: 0.13617368657363996\n",
      "Epoch: 9800, Max Error: 0.13416051495272657\n",
      "Epoch: 9900, Max Error: 0.13221997405949965\n",
      "Epoch: 10000, Max Error: 0.13034819336143633\n",
      "Epoch: 10100, Max Error: 0.12854156403057135\n",
      "Epoch: 10200, Max Error: 0.1267967182317773\n",
      "Epoch: 10300, Max Error: 0.12511051022050773\n",
      "Epoch: 10400, Max Error: 0.12347999908566301\n",
      "Epoch: 10500, Max Error: 0.121902432987314\n",
      "Epoch: 10600, Max Error: 0.12037523475224024\n",
      "Epoch: 10700, Max Error: 0.11889598870260681\n",
      "Epoch: 10800, Max Error: 0.11746242860456141\n",
      "Epoch: 10900, Max Error: 0.11607242663403729\n",
      "Epoch: 11000, Max Error: 0.11472398326672288\n",
      "Epoch: 11100, Max Error: 0.11341521800794181\n",
      "Epoch: 11200, Max Error: 0.11214436088619267\n",
      "Epoch: 11300, Max Error: 0.11090974464136566\n",
      "Epoch: 11400, Max Error: 0.10970979754521386\n",
      "Epoch: 11500, Max Error: 0.10854303679764053\n",
      "Epoch: 11600, Max Error: 0.10740806244769288\n",
      "Epoch: 11700, Max Error: 0.10630355179304958\n",
      "Epoch: 11800, Max Error: 0.10522825421612225\n",
      "Epoch: 11900, Max Error: 0.10418098641887398\n",
      "Epoch: 12000, Max Error: 0.10316062802199737\n",
      "Epoch: 12100, Max Error: 0.10216611749731344\n",
      "Epoch: 12200, Max Error: 0.10119644840512769\n",
      "Epoch: 12300, Max Error: 0.10025066591091668\n",
      "Epoch: 12400, Max Error: 0.09932786355804442\n",
      "Epoch: 12500, Max Error: 0.09842718027535526\n",
      "Epoch: 12600, Max Error: 0.09754779760037546\n",
      "Epoch: 12700, Max Error: 0.09668893710063672\n",
      "Epoch: 12800, Max Error: 0.0958498579771368\n",
      "Epoch: 12900, Max Error: 0.09502985483541997\n",
      "Epoch: 13000, Max Error: 0.09422825561100712\n",
      "Epoch: 13100, Max Error: 0.09344441963708129\n",
      "Epoch: 13200, Max Error: 0.09267773584335962\n",
      "Epoch: 13300, Max Error: 0.09192762107606968\n",
      "Epoch: 13400, Max Error: 0.09119351852976769\n",
      "Epoch: 13500, Max Error: 0.09047489628255145\n",
      "Epoch: 13600, Max Error: 0.08977124592691438\n",
      "Epoch: 13700, Max Error: 0.0890820812891291\n",
      "Epoch: 13800, Max Error: 0.08840693723065027\n",
      "Epoch: 13900, Max Error: 0.08774536852554718\n",
      "Epoch: 14000, Max Error: 0.08709694880847027\n",
      "Epoch: 14100, Max Error: 0.0864612695880945\n",
      "Epoch: 14200, Max Error: 0.08583793932138359\n",
      "Epoch: 14300, Max Error: 0.08522658254439977\n",
      "Epoch: 14400, Max Error: 0.08462683905570884\n",
      "Epoch: 14500, Max Error: 0.08403836314873536\n",
      "Epoch: 14600, Max Error: 0.08346082288972613\n",
      "Epoch: 14700, Max Error: 0.0828938994382015\n",
      "Epoch: 14800, Max Error: 0.08233728640705108\n",
      "Epoch: 14900, Max Error: 0.08179068925960631\n",
      "Epoch: 15000, Max Error: 0.08125382474125172\n",
      "Epoch: 15100, Max Error: 0.08072642034330757\n",
      "Epoch: 15200, Max Error: 0.08020821379707051\n",
      "Epoch: 15300, Max Error: 0.07969895259608159\n",
      "Epoch: 15400, Max Error: 0.07919839354479845\n",
      "Epoch: 15500, Max Error: 0.0787063023320028\n",
      "Epoch: 15600, Max Error: 0.07822245312739097\n",
      "Epoch: 15700, Max Error: 0.07774662819988716\n",
      "Epoch: 15800, Max Error: 0.07727861755634471\n",
      "Epoch: 15900, Max Error: 0.07681821859937558\n",
      "Epoch: 16000, Max Error: 0.07636523580315625\n",
      "Epoch: 16100, Max Error: 0.07591948040609905\n",
      "Epoch: 16200, Max Error: 0.0754807701194073\n",
      "Epoch: 16300, Max Error: 0.07504892885054616\n",
      "Epoch: 16400, Max Error: 0.0746237864407617\n",
      "Epoch: 16500, Max Error: 0.07420517841582408\n",
      "Epoch: 16600, Max Error: 0.07379294574922413\n",
      "Epoch: 16700, Max Error: 0.07338693463710712\n",
      "Epoch: 16800, Max Error: 0.07298699628427571\n",
      "Epoch: 16900, Max Error: 0.07259298670063077\n",
      "Epoch: 17000, Max Error: 0.07220476650746269\n",
      "Epoch: 17100, Max Error: 0.07182220075304485\n",
      "Epoch: 17200, Max Error: 0.07144515873701261\n",
      "Epoch: 17300, Max Error: 0.07107351384304463\n",
      "Epoch: 17400, Max Error: 0.07070714337939676\n",
      "Epoch: 17500, Max Error: 0.0703459284268518\n",
      "Epoch: 17600, Max Error: 0.06998975369370215\n",
      "Epoch: 17700, Max Error: 0.06963850737737591\n",
      "Epoch: 17800, Max Error: 0.06929208103236527\n",
      "Epoch: 17900, Max Error: 0.0689503694441145\n",
      "Epoch: 18000, Max Error: 0.06861327050856766\n",
      "Epoch: 18100, Max Error: 0.06828068511707129\n",
      "Epoch: 18200, Max Error: 0.06795251704637195\n",
      "Epoch: 18300, Max Error: 0.06762867285342428\n",
      "Epoch: 18400, Max Error: 0.06730906177479466\n",
      "Epoch: 18500, Max Error: 0.06699359563039989\n",
      "Epoch: 18600, Max Error: 0.06668218873138855\n",
      "Epoch: 18700, Max Error: 0.06637475779194162\n",
      "Epoch: 18800, Max Error: 0.06607122184480756\n",
      "Epoch: 18900, Max Error: 0.06577150216038986\n",
      "Epoch: 19000, Max Error: 0.06547552216920512\n",
      "Epoch: 19100, Max Error: 0.065183207387561\n",
      "Epoch: 19200, Max Error: 0.06489448534628744\n",
      "Epoch: 19300, Max Error: 0.06460928552238404\n",
      "Epoch: 19400, Max Error: 0.0643275392734437\n",
      "Epoch: 19500, Max Error: 0.06404917977471797\n",
      "Epoch: 19600, Max Error: 0.06377414195870491\n",
      "Epoch: 19700, Max Error: 0.06350236245713929\n",
      "Epoch: 19800, Max Error: 0.0632337795452768\n",
      "Epoch: 19900, Max Error: 0.06296833308836558\n",
      "Epoch: 20000, Max Error: 0.06270596449020534\n",
      "Epoch: 20100, Max Error: 0.06244661664370036\n",
      "Epoch: 20200, Max Error: 0.06219023388331379\n",
      "Epoch: 20300, Max Error: 0.06193676193934787\n",
      "Epoch: 20400, Max Error: 0.061686147893953866\n",
      "Epoch: 20500, Max Error: 0.06143834013880602\n",
      "Epoch: 20600, Max Error: 0.0611932883343667\n",
      "Epoch: 20700, Max Error: 0.06095094337066711\n",
      "Epoch: 20800, Max Error: 0.06071125732954209\n",
      "Epoch: 20900, Max Error: 0.060474183448258986\n",
      "Epoch: 21000, Max Error: 0.0602396760844722\n",
      "Epoch: 21100, Max Error: 0.06000769068245849\n",
      "Epoch: 21200, Max Error: 0.05977818374056773\n",
      "Epoch: 21300, Max Error: 0.0595511127798452\n",
      "Epoch: 21400, Max Error: 0.059326436313778874\n",
      "Epoch: 21500, Max Error: 0.059104113819110786\n",
      "Epoch: 21600, Max Error: 0.05888410570768939\n",
      "Epoch: 21700, Max Error: 0.05866637329930246\n",
      "Epoch: 21800, Max Error: 0.05845087879545838\n",
      "Epoch: 21900, Max Error: 0.058237585254078676\n",
      "Epoch: 22000, Max Error: 0.05802645656506045\n",
      "Epoch: 22100, Max Error: 0.057817457426676384\n",
      "Epoch: 22200, Max Error: 0.057610553322779624\n",
      "Epoch: 22300, Max Error: 0.057405710500779576\n",
      "Epoch: 22400, Max Error: 0.05720289595036215\n",
      "Epoch: 22500, Max Error: 0.05700207738291603\n",
      "Epoch: 22600, Max Error: 0.05680322321165354\n",
      "Epoch: 22700, Max Error: 0.056606302532377833\n",
      "Epoch: 22800, Max Error: 0.05641128510489522\n",
      "Epoch: 22900, Max Error: 0.05621814133502768\n",
      "Epoch: 23000, Max Error: 0.056026842257211946\n",
      "Epoch: 23100, Max Error: 0.055837359517666565\n",
      "Epoch: 23200, Max Error: 0.05564966535809541\n",
      "Epoch: 23300, Max Error: 0.05546373259991609\n",
      "Epoch: 23400, Max Error: 0.05527953462899051\n",
      "Epoch: 23500, Max Error: 0.055097045380837276\n",
      "Epoch: 23600, Max Error: 0.05491623932631028\n",
      "Epoch: 23700, Max Error: 0.05473709145773088\n",
      "Epoch: 23800, Max Error: 0.05455957727544117\n",
      "Epoch: 23900, Max Error: 0.054383672774787215\n",
      "Epoch: 24000, Max Error: 0.05420935443349445\n",
      "Epoch: 24100, Max Error: 0.054036599199433794\n",
      "Epoch: 24200, Max Error: 0.0538653844787611\n",
      "Epoch: 24300, Max Error: 0.05369568812441636\n",
      "Epoch: 24400, Max Error: 0.05352748842496941\n",
      "Epoch: 24500, Max Error: 0.05336076409380076\n",
      "Epoch: 24600, Max Error: 0.05319549425860937\n",
      "Epoch: 24700, Max Error: 0.05303165845122367\n",
      "Epoch: 24800, Max Error: 0.052869236597726375\n",
      "Epoch: 24900, Max Error: 0.05270820900885823\n",
      "Epoch: 25000, Max Error: 0.052548556370710583\n",
      "Epoch: 25100, Max Error: 0.052390259735686166\n",
      "Epoch: 25200, Max Error: 0.05223330051372056\n",
      "Epoch: 25300, Max Error: 0.05207766046376073\n",
      "Epoch: 25400, Max Error: 0.05192332168548588\n",
      "Epoch: 25500, Max Error: 0.05177026661126346\n",
      "Epoch: 25600, Max Error: 0.05161847799833636\n",
      "Epoch: 25700, Max Error: 0.051467938921230645\n",
      "Epoch: 25800, Max Error: 0.05131863276437698\n",
      "Epoch: 25900, Max Error: 0.05117054321493706\n",
      "Epoch: 26000, Max Error: 0.0510236542558307\n",
      "Epoch: 26100, Max Error: 0.0508779501589596\n",
      "Epoch: 26200, Max Error: 0.05073341547861378\n",
      "Epoch: 26300, Max Error: 0.050590035045061155\n",
      "Epoch: 26400, Max Error: 0.050447793958313336\n",
      "Epoch: 26500, Max Error: 0.05030667758205915\n",
      "Epoch: 26600, Max Error: 0.05016667153776596\n",
      "Epoch: 26700, Max Error: 0.05002776169893467\n"
     ]
    }
   ],
   "source": [
    "while max_error > max_error_allowed:\n",
    "    max_error = 0\n",
    "    for x, y_true in zip(inputs, targets):\n",
    "        # Forward pass\n",
    "        hidden_input = np.dot(x, weights_input_hidden) + bias_hidden  # vj\n",
    "        hidden_output = sigmoid(hidden_input)                         # yj\n",
    "        final_input = np.dot(hidden_output, weights_hidden_output) + bias_output   # vk\n",
    "        y_pred = sigmoid(final_input)                                              # yk\n",
    "        \n",
    "        # Calculate error\n",
    "        error = y_true - y_pred\n",
    "        max_current_error = np.max(np.abs(error))\n",
    "        max_error = max(max_error, max_current_error)\n",
    "        \n",
    "        # Backpropagation\n",
    "        d_error_output = error * sigmoid_derivative(final_input)\n",
    "        error_hidden_layer = d_error_output.dot(weights_hidden_output.T)\n",
    "        d_error_hidden = error_hidden_layer * sigmoid_derivative(hidden_input)\n",
    "        \n",
    "        # Update weights and biases\n",
    "        weights_hidden_output += learning_rate * hidden_output.T.dot(d_error_output)\n",
    "        weights_input_hidden += learning_rate * x.reshape(-1, 1).dot(d_error_hidden)\n",
    "        bias_output += learning_rate * np.sum(d_error_output, axis=0, keepdims=True)\n",
    "        bias_hidden += learning_rate * np.sum(d_error_hidden, axis=0, keepdims=True)\n",
    "\n",
    "    # Store maximum error for this epoch\n",
    "    max_errors.append(max_error)\n",
    "\n",
    "    # Print progress\n",
    "    if epoch % 100 == 0:\n",
    "        print(f\"Epoch: {epoch}, Max Error: {max_error}\")\n",
    "    \n",
    "    epoch += 1"
   ]
  },
  {
   "cell_type": "code",
   "execution_count": 9,
   "metadata": {},
   "outputs": [
    {
     "data": {
      "image/png": "[encoded data removed]",
      "text/plain": [
       "<Figure size 640x480 with 1 Axes>"
      ]
     },
     "metadata": {},
     "output_type": "display_data"
    }
   ],
   "source": [
    "# Plotting training error vs. epoch\n",
    "plt.plot(range(epoch), max_errors)\n",
    "plt.xlabel('Epoch')\n",
    "plt.ylabel('Max Error')\n",
    "plt.title('Training Error vs. Epoch')\n",
    "plt.show()"
   ]
  },
  {
   "cell_type": "markdown",
   "metadata": {},
   "source": [
    "### Discussion:\n",
    "1. There is an initial fluctuation in error at the very start of training. This is common in the early stages as the model begins to learn from the data. It may be due to the initial weights being far from optimal or the learning rate being high enough to cause some instability.\n",
    "2. After the initial phase, there is a sharp decline in training error, which suggests that the model starts to learn and improve significantly from the data. This is often observed as the model begins to converge to a set of parameters that minimize the error.\n",
    "3. As the epochs increase, the rate of decrease in error slows down, and the error curve begins to flatten. This indicates that the model is approaching a point of convergence where further learning improvements are marginal. This is typically where learning starts to plateau.\n",
    "4. By the end of the graph, the training error seems to have stabilized at a low value, suggesting that the model has converged and additional training epochs may not lead to significant improvements."
   ]
  },
  {
   "cell_type": "code",
   "execution_count": 10,
   "metadata": {},
   "outputs": [
    {
     "name": "stdout",
     "output_type": "stream",
     "text": [
      "Training completed. Maximum error among all input patterns: 0.04999872860211101\n"
     ]
    }
   ],
   "source": [
    "# Check the maximum error\n",
    "print(\"Training completed. Maximum error among all input patterns:\", max_error)"
   ]
  },
  {
   "cell_type": "markdown",
   "metadata": {},
   "source": [
    "## 3. Training Loop for a varying learning rate \n",
    "### learning_rate: 0.05 to 0.5 with an increment of 0.05"
   ]
  },
  {
   "cell_type": "code",
   "execution_count": 11,
   "metadata": {},
   "outputs": [
    {
     "data": {
      "text/plain": [
       "array([0.05, 0.1 , 0.15, 0.2 , 0.25, 0.3 , 0.35, 0.4 , 0.45, 0.5 ])"
      ]
     },
     "execution_count": 11,
     "metadata": {},
     "output_type": "execute_result"
    }
   ],
   "source": [
    "# Learning rates to test\n",
    "learning_rates = np.arange(0.05, 0.55, 0.05)\n",
    "\n",
    "learning_rates"
   ]
  },
  {
   "cell_type": "code",
   "execution_count": 12,
   "metadata": {},
   "outputs": [],
   "source": [
    "epochs_required = []\n",
    "\n",
    "# Train the network with each learning rate\n",
    "for learning_rate in learning_rates:\n",
    "    np.random.seed(42)  # Reset the seed for comparability\n",
    "    weights_input_hidden = np.random.uniform(-1, 1, (input_size, hidden_size))\n",
    "    weights_hidden_output = np.random.uniform(-1, 1, (hidden_size, output_size))\n",
    "    bias_hidden = np.random.uniform(-1, 1, (1, hidden_size))\n",
    "    bias_output = np.random.uniform(-1, 1, (1, output_size))\n",
    "    \n",
    "    epochs = 0\n",
    "    max_error = float('inf')\n",
    "    while max_error > max_error_allowed:\n",
    "        max_error = 0\n",
    "        for x, y_true in zip(inputs, targets):\n",
    "            # Forward pass\n",
    "            hidden_input = np.dot(x, weights_input_hidden) + bias_hidden\n",
    "            hidden_output = sigmoid(hidden_input)\n",
    "            final_input = np.dot(hidden_output, weights_hidden_output) + bias_output\n",
    "            y_pred = sigmoid(final_input)\n",
    "            \n",
    "            # Calculate error\n",
    "            error = y_true - y_pred\n",
    "            max_current_error = np.max(np.abs(error))\n",
    "            max_error = max(max_error, max_current_error)\n",
    "            \n",
    "            # Backpropagation\n",
    "            d_error_output = error * sigmoid_derivative(final_input)\n",
    "            error_hidden_layer = d_error_output.dot(weights_hidden_output.T)\n",
    "            d_error_hidden = error_hidden_layer * sigmoid_derivative(hidden_input)\n",
    "            \n",
    "            # Update weights and biases\n",
    "            weights_hidden_output += learning_rate * hidden_output.T.dot(d_error_output)\n",
    "            weights_input_hidden += learning_rate * x.reshape(-1, 1).dot(d_error_hidden)\n",
    "            bias_output += learning_rate * np.sum(d_error_output, axis=0, keepdims=True)\n",
    "            bias_hidden += learning_rate * np.sum(d_error_hidden, axis=0, keepdims=True)        \n",
    "        epochs += 1\n",
    "    \n",
    "    epochs_required.append(epochs)"
   ]
  },
  {
   "cell_type": "code",
   "execution_count": 13,
   "metadata": {},
   "outputs": [
    {
     "data": {
      "text/plain": [
       "[26722, 13377, 8932, 6712, 5383, 4498, 3868, 3398, 3034, 2745]"
      ]
     },
     "execution_count": 13,
     "metadata": {},
     "output_type": "execute_result"
    }
   ],
   "source": [
    "epochs_required"
   ]
  },
  {
   "cell_type": "code",
   "execution_count": 14,
   "metadata": {},
   "outputs": [
    {
     "data": {
      "image/png": "[encoded data removed]",
      "text/plain": [
       "<Figure size 1000x600 with 1 Axes>"
      ]
     },
     "metadata": {},
     "output_type": "display_data"
    }
   ],
   "source": [
    "# Plotting learning rates vs. epochs required\n",
    "plt.figure(figsize=(10, 6))\n",
    "plt.plot(learning_rates, epochs_required, marker='o')\n",
    "plt.title('Learning Rate vs. Number of Epochs Required')\n",
    "plt.xlabel('Learning Rate (η)')\n",
    "plt.ylabel('Number of Epochs Required')\n",
    "plt.grid(True)\n",
    "plt.show()"
   ]
  },
  {
   "cell_type": "markdown",
   "metadata": {},
   "source": [
    "### Discussion:\n",
    "1. There is a clear decreasing trend in the number of epochs required as the learning rate increases. This is consistent with the expectation that a higher learning rate can lead to faster convergence, as the steps taken towards the minimum of the loss function are larger.\n",
    "2. Initially, as the learning rate increases from 0.1 to approximately 0.2, there is a steep decline in the number of epochs required. This suggests that within this range, the learning rate was potentially too low initially, leading to slow convergence. As the learning rate increases, the convergence rate improves significantly.\n",
    "3. After the sharp decline, the curve starts to plateau, with a more gradual decrease in the number of epochs required as the learning rate continues to increase. This could indicate that beyond a certain point, further increases in the learning rate do not significantly speed up learning, and might even risk overshooting the minimum.\n",
    "4. Based on this graph, there seems to be an optimal range of learning rates where the number of epochs required is minimized without leading to instability in the training process. This range appears to be between approximately 0.2 and 0.3, where further increases in the learning rate do not yield significant improvements in convergence time."
   ]
  },
  {
   "cell_type": "markdown",
   "metadata": {},
   "source": [
    "## 4. Training Loop for a varying learning rate and a momentum term\n",
    "### learning_rate: 0.05 to 0.5 with an increment of 0.05\n",
    "### momentumL 0.9"
   ]
  },
  {
   "cell_type": "code",
   "execution_count": 15,
   "metadata": {},
   "outputs": [],
   "source": [
    "momentum_coefficient = 0.9  # β"
   ]
  },
  {
   "cell_type": "code",
   "execution_count": 16,
   "metadata": {},
   "outputs": [],
   "source": [
    "epochs_required_momentum = []\n",
    "\n",
    "for learning_rate in learning_rates:\n",
    "    np.random.seed(42)\n",
    "    weights_input_hidden = np.random.uniform(-1, 1, (input_size, hidden_size))\n",
    "    weights_hidden_output = np.random.uniform(-1, 1, (hidden_size, output_size))\n",
    "    bias_hidden = np.random.uniform(-1, 1, (1, hidden_size))\n",
    "    bias_output = np.random.uniform(-1, 1, (1, output_size))\n",
    "    \n",
    "    # Initialize momentum terms for weights and biases\n",
    "    momentum_wih = np.zeros_like(weights_input_hidden)\n",
    "    momentum_who = np.zeros_like(weights_hidden_output)\n",
    "    momentum_bh = np.zeros_like(bias_hidden)\n",
    "    momentum_bo = np.zeros_like(bias_output)\n",
    "\n",
    "    epochs = 0\n",
    "    max_error = float('inf')\n",
    "    while max_error > max_error_allowed:\n",
    "        max_error = 0\n",
    "        for x, y_true in zip(inputs, targets):\n",
    "            # Forward pass\n",
    "            hidden_input = np.dot(x, weights_input_hidden) + bias_hidden\n",
    "            hidden_output = sigmoid(hidden_input)\n",
    "            final_input = np.dot(hidden_output, weights_hidden_output) + bias_output\n",
    "            y_pred = sigmoid(final_input)\n",
    "            \n",
    "            # Calculate error\n",
    "            error = y_true - y_pred\n",
    "            max_current_error = np.max(np.abs(error))\n",
    "            max_error = max(max_error, max_current_error)\n",
    "            \n",
    "            # Backpropagation\n",
    "            d_error_output = error * sigmoid_derivative(final_input)\n",
    "            error_hidden_layer = d_error_output.dot(weights_hidden_output.T)\n",
    "            d_error_hidden = error_hidden_layer * sigmoid_derivative(hidden_input)\n",
    "            \n",
    "            # Update weights and biases with momentum\n",
    "            delta_wih = (learning_rate * x.reshape(-1, 1).dot(d_error_hidden)) + (momentum_coefficient * momentum_wih)\n",
    "            delta_who = (learning_rate * hidden_output.T.dot(d_error_output)) + (momentum_coefficient * momentum_who)\n",
    "            delta_bh = (learning_rate * np.sum(d_error_hidden, axis=0, keepdims=True)) + (momentum_coefficient * momentum_bh)\n",
    "            delta_bo = (learning_rate * np.sum(d_error_output, axis=0, keepdims=True)) + (momentum_coefficient * momentum_bo)\n",
    "            \n",
    "            weights_input_hidden += delta_wih\n",
    "            weights_hidden_output += delta_who\n",
    "            bias_hidden += delta_bh\n",
    "            bias_output += delta_bo\n",
    "            \n",
    "            # Update momentum terms\n",
    "            momentum_wih = delta_wih\n",
    "            momentum_who = delta_who\n",
    "            momentum_bh = delta_bh\n",
    "            momentum_bo = delta_bo\n",
    "        \n",
    "        epochs += 1\n",
    "    \n",
    "    epochs_required_momentum.append(epochs)"
   ]
  },
  {
   "cell_type": "code",
   "execution_count": 17,
   "metadata": {},
   "outputs": [
    {
     "data": {
      "image/png": "[encoded data removed]",
      "text/plain": [
       "<Figure size 1000x600 with 1 Axes>"
      ]
     },
     "metadata": {},
     "output_type": "display_data"
    }
   ],
   "source": [
    "# Plotting learning rates vs. epochs required with and without momentum\n",
    "plt.figure(figsize=(10, 6))\n",
    "plt.plot(learning_rates, epochs_required, marker='o', label='Without Momentum')\n",
    "plt.plot(learning_rates, epochs_required_momentum, marker='x', label='With Momentum')\n",
    "plt.title('Learning Rate vs. Number of Epochs Required')\n",
    "plt.xlabel('Learning Rate (η)')\n",
    "plt.ylabel('Number of Epochs Required')\n",
    "plt.legend()\n",
    "plt.grid(True)\n",
    "plt.show()"
   ]
  },
  {
   "cell_type": "markdown",
   "metadata": {},
   "source": [
    "### Discussion\n",
    "1.  The use of momentum significantly reduces the number of epochs required for the model to converge across all learning rates. This demonstrates the effectiveness of momentum as a method to accelerate convergence in gradient-based optimization algorithms.\n",
    "2.  Both with and without momentum, there is a trend showing that as the learning rate increases, the number of epochs required decreases. This is expected as a higher learning rate allows the model to take larger steps during optimization, potentially reaching the optimal point more quickly.\n",
    "3.  For both curves, the decline in the number of epochs required levels off as the learning rate approaches 0.5. This suggests that there might be a threshold beyond which further increases in the learning rate do not contribute to a faster convergence, and could potentially lead to divergence or overshooting the minimum.\n",
    "4.  The improvement due to momentum is consistent across the range of learning rates, showcasing that momentum helps to navigate the optimization landscape more effectively by dampening oscillations and accelerating through flat regions."
   ]
  },
  {
   "cell_type": "markdown",
   "metadata": {},
   "source": [
    "## 5. Test Results"
   ]
  },
  {
   "cell_type": "code",
   "execution_count": 18,
   "metadata": {},
   "outputs": [
    {
     "data": {
      "text/plain": [
       "(array([[-0.25091976,  0.90142861,  0.46398788,  0.19731697],\n",
       "        [-0.68796272, -0.68801096, -0.88383278,  0.73235229],\n",
       "        [ 1.48289273,  3.74046554, -5.45589553,  5.68489977],\n",
       "        [ 0.5295188 , -5.83086008, -5.99500379, -2.09414281]]),\n",
       " array([[-1.3192312 , -1.51195956,  1.73833673, -0.33169967]]))"
      ]
     },
     "execution_count": 18,
     "metadata": {},
     "output_type": "execute_result"
    }
   ],
   "source": [
    "# The weights and bias for the hidden layer\n",
    "weights_input_hidden, bias_hidden"
   ]
  },
  {
   "cell_type": "code",
   "execution_count": 19,
   "metadata": {},
   "outputs": [
    {
     "data": {
      "text/plain": [
       "(array([[-1.25338114],\n",
       "        [ 7.32942299],\n",
       "        [-7.1128198 ],\n",
       "        [-6.55825784]]),\n",
       " array([[4.00833718]]))"
      ]
     },
     "execution_count": 19,
     "metadata": {},
     "output_type": "execute_result"
    }
   ],
   "source": [
    "# The weights and bias for the output layer\n",
    "weights_hidden_output, bias_output"
   ]
  },
  {
   "cell_type": "code",
   "execution_count": 20,
   "metadata": {},
   "outputs": [
    {
     "data": {
      "text/plain": [
       "array([[0.97582884]])"
      ]
     },
     "execution_count": 20,
     "metadata": {},
     "output_type": "execute_result"
    }
   ],
   "source": [
    "# Test with ((1,1,1,0),1)\n",
    "\n",
    "x = [1, 1, 1, 0]\n",
    "\n",
    "hidden_input = np.dot(x, weights_input_hidden) + bias_hidden \n",
    "hidden_output = sigmoid(hidden_input)                        \n",
    "final_input = np.dot(hidden_output, weights_hidden_output) + bias_output  \n",
    "y_pred = sigmoid(final_input)                                          \n",
    "\n",
    "y_pred"
   ]
  },
  {
   "cell_type": "code",
   "execution_count": 25,
   "metadata": {},
   "outputs": [
    {
     "data": {
      "text/plain": [
       "array([[0.05935324]])"
      ]
     },
     "execution_count": 25,
     "metadata": {},
     "output_type": "execute_result"
    }
   ],
   "source": [
    "# Test with ((1,1,1,1),0)\n",
    "\n",
    "x = [1, 1, 1, 1]\n",
    "\n",
    "hidden_input = np.dot(x, weights_input_hidden) + bias_hidden \n",
    "hidden_output = sigmoid(hidden_input)                        \n",
    "final_input = np.dot(hidden_output, weights_hidden_output) + bias_output  \n",
    "y_pred = sigmoid(final_input)                                          \n",
    "\n",
    "y_pred"
   ]
  },
  {
   "cell_type": "code",
   "execution_count": 24,
   "metadata": {},
   "outputs": [
    {
     "data": {
      "text/plain": [
       "array([[0.95210549]])"
      ]
     },
     "execution_count": 24,
     "metadata": {},
     "output_type": "execute_result"
    }
   ],
   "source": [
    "# Test with ((0,0,0,1),1)\n",
    "\n",
    "x = [0, 0, 0, 1]\n",
    "\n",
    "hidden_input = np.dot(x, weights_input_hidden) + bias_hidden \n",
    "hidden_output = sigmoid(hidden_input)                        \n",
    "final_input = np.dot(hidden_output, weights_hidden_output) + bias_output  \n",
    "y_pred = sigmoid(final_input)                                          \n",
    "\n",
    "y_pred"
   ]
  },
  {
   "cell_type": "markdown",
   "metadata": {},
   "source": [
    "### Discussion\n",
    "1. First Test ((1,1,1,0), 1): The input vector is [1, 1, 1, 0], and the expected output is 1. The predicted value y_pred is approximately 0.9758, which is very close to 1. This suggests that the model is quite confident that the correct class is 1, which aligns with the expected output. This is a correct classification by the model.\n",
    "2. Second Test ((1,1,1,1), 0): The input vector is [1, 1, 1, 1], and the expected output is 0. The predicted value y_pred is approximately 0.0594, which is close to 0, indicating that the model predicts the class to be 0 with high confidence. This also appears to be a correct classification by the model.\n",
    "3. Third Test ((0,0,0,1), 1): The input vector is [0, 0, 0, 1], and the expected output is 1. The predicted value y_pred is approximately 0.9521, which means the model is predicting the class to be 1 with high confidence. Again, the model's prediction is in agreement with the expected output, indicating another correct classification."
   ]
  },
  {
   "cell_type": "markdown",
   "metadata": {},
   "source": [
    "### Conclusion:\n",
    "1. The model seems to be very confident in its predictions given the high probability scores for each test case (close to 0 or 1).\n",
    "2. While the test results are good, without more context on the validation process and performance metrics across a broader test set, we can't determine if the model is generalizing well or potentially overfitting to the training data.\n",
    "3. The consistent proximity of the predicted values to the expected binary outputs suggests that the model has learned some significant features from the training data that generalize to at least these test cases."
   ]
  }
 ],
 "metadata": {
  "kernelspec": {
   "display_name": "Python 3",
   "language": "python",
   "name": "python3"
  },
  "language_info": {
   "codemirror_mode": {
    "name": "ipython",
    "version": 3
   },
   "file_extension": ".py",
   "mimetype": "text/x-python",
   "name": "python",
   "nbconvert_exporter": "python",
   "pygments_lexer": "ipython3",
   "version": "3.11.8"
  }
 },
 "nbformat": 4,
 "nbformat_minor": 2
}
